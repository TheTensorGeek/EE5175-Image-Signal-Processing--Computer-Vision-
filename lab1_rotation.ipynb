{
 "cells": [
  {
   "cell_type": "markdown",
   "id": "33a007cc",
   "metadata": {},
   "source": [
    "# Rotation of Images"
   ]
  },
  {
   "cell_type": "markdown",
   "id": "b8415a2d",
   "metadata": {},
   "source": [
    "#### Importing Libraries"
   ]
  },
  {
   "cell_type": "code",
   "execution_count": 1,
   "id": "a50805c3",
   "metadata": {},
   "outputs": [
    {
     "ename": "ModuleNotFoundError",
     "evalue": "No module named 'SimpleITK'",
     "output_type": "error",
     "traceback": [
      "\u001b[1;31m---------------------------------------------------------------------------\u001b[0m",
      "\u001b[1;31mModuleNotFoundError\u001b[0m                       Traceback (most recent call last)",
      "\u001b[1;32m~\\AppData\\Local\\Temp\\ipykernel_22292\\3286194598.py\u001b[0m in \u001b[0;36m<module>\u001b[1;34m\u001b[0m\n\u001b[0;32m      4\u001b[0m \u001b[1;32mimport\u001b[0m \u001b[0mcv2\u001b[0m\u001b[1;33m\u001b[0m\u001b[1;33m\u001b[0m\u001b[0m\n\u001b[0;32m      5\u001b[0m \u001b[1;32mimport\u001b[0m \u001b[0mimageio\u001b[0m\u001b[1;33m\u001b[0m\u001b[1;33m\u001b[0m\u001b[0m\n\u001b[1;32m----> 6\u001b[1;33m \u001b[1;32mimport\u001b[0m \u001b[0mSimpleITK\u001b[0m\u001b[1;33m\u001b[0m\u001b[1;33m\u001b[0m\u001b[0m\n\u001b[0m\u001b[0;32m      7\u001b[0m \u001b[1;32mimport\u001b[0m \u001b[0msys\u001b[0m\u001b[1;33m\u001b[0m\u001b[1;33m\u001b[0m\u001b[0m\n\u001b[0;32m      8\u001b[0m \u001b[1;32mfrom\u001b[0m \u001b[0mpylab\u001b[0m \u001b[1;32mimport\u001b[0m \u001b[1;33m*\u001b[0m\u001b[1;33m\u001b[0m\u001b[1;33m\u001b[0m\u001b[0m\n",
      "\u001b[1;31mModuleNotFoundError\u001b[0m: No module named 'SimpleITK'"
     ]
    }
   ],
   "source": [
    "#%matplotlib inline\n",
    "import numpy as np \n",
    "#from matplotlib import pyplot as plt \n",
    "import cv2\n",
    "import imageio\n",
    "import SimpleITK\n",
    "import sys\n",
    "from pylab import *\n"
   ]
  },
  {
   "cell_type": "markdown",
   "id": "8918d29b",
   "metadata": {},
   "source": [
    "#### Reading the image "
   ]
  },
  {
   "cell_type": "code",
   "execution_count": null,
   "id": "3a549802",
   "metadata": {},
   "outputs": [],
   "source": [
    "cells = cv2.imread(\"cells_scale.png\",0)\n",
    "lena = cv2.imread(\"lena_translate.png\",0)\n",
    "pisa = cv2.imread(\"pisa_rotate.png\",0)\n"
   ]
  },
  {
   "cell_type": "markdown",
   "id": "4aaec49f",
   "metadata": {},
   "source": [
    "#### Defining Interpolation (Bilinear)\n",
    "This function Computes the intensity at source point by bilinearly interpolating\n",
    "intensities in the immediate 2 X 2 neighborhood of the source point(si,sj)."
   ]
  },
  {
   "cell_type": "code",
   "execution_count": null,
   "id": "ca9f5b6d",
   "metadata": {},
   "outputs": [],
   "source": [
    "def bilinear_interpolation(src,si,sj):\n",
    "    #si , sj = src_pt\n",
    "    #si= ti-ty\n",
    "    #sj= tj-tx\n",
    "    i=int(np.floor(si)) #+cx   \n",
    "    j=int(np.floor(sj)) #+cy     ## Here i,j are the co-ordinate points of the top left (t_l)\n",
    "    t_l = i , j \n",
    "    \n",
    "    ##Now the remaining three co-ordinates with respect to i,j will be \n",
    "    t_r = i ,j+1    # Top right\n",
    "    b_l = i+1 , j   # Bottom Left \n",
    "    b_r = i+1 , j+1 # Bottom Right \n",
    "    \n",
    "    ##Distance from pixel\n",
    "    di = si  + cx - i\n",
    "    dj = sj  + cy - j \n",
    "    \n",
    "    ## Now calculating the pixel value at the source point by using bilinear interpolation technique\n",
    "    if t_l[0] >= np.shape(src)[0]-1 or t_l[1] >=np.shape(src)[1]-1 or t_l[0]<=0 or t_l[1]<= 0 :\n",
    "        pxl_val = 0\n",
    "    else :\n",
    "        pxl_val = (1-di)*(1-di)*src[t_l] + (1-di)*(dj)*src[t_r] + (di)*(1-dj)*src[b_l]+ (di)*(dj)*src[b_r]\n",
    "    \n",
    "    #return np.unit8(pxl_val)\n",
    "    return pxl_val\n"
   ]
  },
  {
   "cell_type": "markdown",
   "id": "7086810a",
   "metadata": {},
   "source": [
    "#### Doing transformation "
   ]
  },
  {
   "cell_type": "code",
   "execution_count": null,
   "id": "315d1668",
   "metadata": {},
   "outputs": [],
   "source": [
    "#Initialising the target image \n",
    "trg = np.zeros(np.shape(pisa))\n",
    "\n",
    "#Getting the co-ordinates of the centre of source image because the rotation will be done about the centre.\n",
    "cx = int(np.floor(np.shape(pisa)[0]/2))\n",
    "cy = int(np.floor(np.shape(pisa)[1]/2))\n",
    "\n",
    "#Defining the transform for rotation\n",
    "def transform(src):\n",
    "    r , c = np.shape(src)\n",
    "    \n",
    "    ## iterate over the target image and assign all the pixel values to them\n",
    "    for ti in range(r):\n",
    "        for tj in range(c):\n",
    "            #si= ti-ty\n",
    "            \"\"\"\n",
    "            1. First we will trnaslate to the centre as we have to do the rotation about the centre \n",
    "            2. Then we will apply rotation as we would apply rotation around the origin\n",
    "            3. And then we will trnaslate back \n",
    "            All these steps can be done by the following transform\n",
    "            \"\"\"\n",
    "            si = np.cos(theta)*(ti-cx) - np.sin(theta)*(tj-cy) +cx\n",
    "            sj = np.sin(theta)*(ti-cx) + np.cos(theta)*(tj-cy) +cy\n",
    "            #si,sj=np.array([ti,tj,1])\n",
    "            #si,sj=si/z,sj/z\n",
    "            \n",
    "            ## Assigniing the intensity values of  the target image at (ti,tj) using the bilinear interpolation above.\n",
    "            #sj= tj-tx\n",
    "            #if (0<= si < r-1  & 0<= sj < c-1):\n",
    "            trg[ti][tj]=bilinear_interpolation(src,si,sj)\n",
    "            #else:\n",
    "                #trg[ti][tj]=0\n",
    "    return trg\n"
   ]
  },
  {
   "cell_type": "markdown",
   "id": "4c95aa9e",
   "metadata": {},
   "source": [
    "#### Rotation Parameter \n",
    "By taking theta approximately -4 degree (rotating clockwise) we get the straight tower of pisa."
   ]
  },
  {
   "cell_type": "code",
   "execution_count": null,
   "id": "74506234",
   "metadata": {},
   "outputs": [],
   "source": [
    "# convert to radians as NumPy uses radians\n",
    "theta = -4*pi/180"
   ]
  },
  {
   "cell_type": "markdown",
   "id": "16eb13f9",
   "metadata": {},
   "source": [
    "#### Defining Rotate "
   ]
  },
  {
   "cell_type": "code",
   "execution_count": null,
   "id": "a073024d",
   "metadata": {},
   "outputs": [],
   "source": [
    "def rotate(src):\n",
    "    \n",
    "    \n",
    "    return transform(src)"
   ]
  },
  {
   "cell_type": "markdown",
   "id": "8b373b66",
   "metadata": {},
   "source": [
    "#### Calling rotate function "
   ]
  },
  {
   "cell_type": "code",
   "execution_count": null,
   "id": "9db45b46",
   "metadata": {},
   "outputs": [],
   "source": [
    "pisa_rotated=rotate(pisa)"
   ]
  },
  {
   "cell_type": "markdown",
   "id": "68b2ed76",
   "metadata": {},
   "source": [
    "#### Original Image "
   ]
  },
  {
   "cell_type": "code",
   "execution_count": null,
   "id": "50b9a49c",
   "metadata": {},
   "outputs": [],
   "source": [
    "plt.imshow(pisa,cmap='gray')\n",
    "plt.show()"
   ]
  },
  {
   "cell_type": "markdown",
   "id": "aaa70b74",
   "metadata": {},
   "source": [
    "#### Rotated Image "
   ]
  },
  {
   "cell_type": "code",
   "execution_count": null,
   "id": "2ee9f994",
   "metadata": {},
   "outputs": [],
   "source": [
    "plt.imshow(pisa_rotated,cmap = 'gray')\n",
    "plt.show()"
   ]
  },
  {
   "cell_type": "code",
   "execution_count": null,
   "id": "072c42f4",
   "metadata": {},
   "outputs": [],
   "source": [
    "plt.imshow(pisa_rotated)\n",
    "plt.show()"
   ]
  }
 ],
 "metadata": {
  "kernelspec": {
   "display_name": "Python 3 (ipykernel)",
   "language": "python",
   "name": "python3"
  },
  "language_info": {
   "codemirror_mode": {
    "name": "ipython",
    "version": 3
   },
   "file_extension": ".py",
   "mimetype": "text/x-python",
   "name": "python",
   "nbconvert_exporter": "python",
   "pygments_lexer": "ipython3",
   "version": "3.10.0"
  }
 },
 "nbformat": 4,
 "nbformat_minor": 5
}
